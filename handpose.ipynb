{
 "cells": [
  {
   "cell_type": "markdown",
   "id": "f71e4424",
   "metadata": {},
   "source": [
    "Importing Dependencies"
   ]
  },
  {
   "cell_type": "code",
   "execution_count": 59,
   "id": "6dd15221",
   "metadata": {},
   "outputs": [],
   "source": [
    "import mediapipe as mp\n",
    "import cv2\n",
    "import numpy as np\n",
    "import uuid\n",
    "import os"
   ]
  },
  {
   "cell_type": "code",
   "execution_count": 60,
   "id": "f24bf5b1",
   "metadata": {},
   "outputs": [],
   "source": [
    "mp_drawing = mp.solutions.drawing_utils\n",
    "mp_hands = mp.solutions.hands"
   ]
  },
  {
   "cell_type": "markdown",
   "id": "0dd49b36",
   "metadata": {},
   "source": [
    "Drawing hands\n",
    "\n",
    "img fro imgur:\n",
    "\n",
    "<img src= https://i.imgur.com/qpRACer.png/>"
   ]
  },
  {
   "cell_type": "code",
   "execution_count": 61,
   "id": "ed4861bd",
   "metadata": {},
   "outputs": [],
   "source": [
    "# cap = cv2.VideoCapture(0)\n",
    "\n",
    "# try:\n",
    "#     with mp_hands.Hands(min_detection_confidence=0.8, min_tracking_confidence=0.5) as hands:\n",
    "#         while cap.isOpened():\n",
    "#             ret, frame = cap.read()\n",
    "            \n",
    "#             if not ret:\n",
    "#                 print(\"Failed to grab frame.\")\n",
    "#                 break\n",
    "            \n",
    "#             # Process the frame\n",
    "#             image = cv2.cvtColor(frame, cv2.COLOR_BGR2RGB)\n",
    "#             image = cv2.flip(image, 1)\n",
    "#             image.flags.writeable = False\n",
    "#             results = hands.process(image)\n",
    "#             image.flags.writeable = True\n",
    "#             image = cv2.cvtColor(image, cv2.COLOR_RGB2BGR)\n",
    "            \n",
    "#             if results.multi_hand_landmarks:\n",
    "#                 for hand_landmarks in results.multi_hand_landmarks:\n",
    "#                     mp_drawing.draw_landmarks(\n",
    "#                         image, hand_landmarks, mp_hands.HAND_CONNECTIONS,\n",
    "#                         mp_drawing.DrawingSpec(color=(121, 22, 76), thickness=2, circle_radius=4),\n",
    "#                         mp_drawing.DrawingSpec(color=(250, 44, 250), thickness=2, circle_radius=2))\n",
    "            \n",
    "#             cv2.imshow('Hand Tracking', image)\n",
    "            \n",
    "#             # Check for window close (X button) or 'q' key press\n",
    "#             if cv2.waitKey(1) & 0xFF == ord('q'):\n",
    "#                 break\n",
    "            \n",
    "#             # Alternative way to check if window is closed (for some OpenCV versions)\n",
    "#             if cv2.getWindowProperty('Hand Tracking', cv2.WND_PROP_VISIBLE) < 1:\n",
    "#                 break\n",
    "                \n",
    "# finally:\n",
    "#     cap.release()\n",
    "#     cv2.destroyAllWindows()"
   ]
  },
  {
   "cell_type": "code",
   "execution_count": 62,
   "id": "0a18a7be",
   "metadata": {},
   "outputs": [],
   "source": [
    "\n",
    "os.makedirs('Output Images', exist_ok=True) #POutput Images save the pictures taken after each 5 sec\n",
    "\n",
    "cap = cv2.VideoCapture(0)\n",
    "\n",
    "last_save_time = 0\n",
    "save_interval = 5  # Save every 5 seconds\n",
    "\n",
    "try:\n",
    "    with mp_hands.Hands(min_detection_confidence=0.8, min_tracking_confidence=0.5) as hands: \n",
    "        while cap.isOpened():\n",
    "            ret, frame = cap.read()\n",
    "            \n",
    "            if not ret:\n",
    "                print(\"Failed to capture frame\")\n",
    "                break\n",
    "            \n",
    "            # BGR 2 RGB\n",
    "            image = cv2.cvtColor(frame, cv2.COLOR_BGR2RGB)\n",
    "            \n",
    "            # Flip on horizontal\n",
    "            image = cv2.flip(image, 1)\n",
    "            \n",
    "            # Set flag\n",
    "            image.flags.writeable = False\n",
    "            \n",
    "            # Detections\n",
    "            results = hands.process(image)\n",
    "            \n",
    "            # Set flag to true\n",
    "            image.flags.writeable = True\n",
    "            \n",
    "            # RGB 2 BGR\n",
    "            image = cv2.cvtColor(image, cv2.COLOR_RGB2BGR)\n",
    "            \n",
    "            # Rendering results\n",
    "            if results.multi_hand_landmarks:\n",
    "                for hand in results.multi_hand_landmarks:\n",
    "                    mp_drawing.draw_landmarks(\n",
    "                        image, hand, mp_hands.HAND_CONNECTIONS, \n",
    "                        mp_drawing.DrawingSpec(color=(255, 255, 255), thickness=2, circle_radius=4),\n",
    "                        mp_drawing.DrawingSpec(color=(0, 0, 0), thickness=2, circle_radius=2)    # lines\n",
    "                    )\n",
    "            \n",
    "            #saving images in Output Images\n",
    "            current_time = time()\n",
    "            if current_time - last_save_time > save_interval:\n",
    "                cv2.imwrite(os.path.join('Output Images', f'{uuid.uuid1()}.jpg'), image)\n",
    "                last_save_time = current_time\n",
    "            \n",
    "            cv2.imshow('Hand Tracking', image)\n",
    "            \n",
    "            #exit \n",
    "            key = cv2.waitKey(10)\n",
    "            if key & 0xFF == ord('q'):  # Quit on 'q'\n",
    "                break\n",
    "            if cv2.getWindowProperty('Hand Tracking', cv2.WND_PROP_VISIBLE) < 1:  # Quit on window close\n",
    "                break\n",
    "\n",
    "finally:\n",
    "    cap.release()\n",
    "    cv2.destroyAllWindows()"
   ]
  }
 ],
 "metadata": {
  "kernelspec": {
   "display_name": ".venv",
   "language": "python",
   "name": "python3"
  },
  "language_info": {
   "codemirror_mode": {
    "name": "ipython",
    "version": 3
   },
   "file_extension": ".py",
   "mimetype": "text/x-python",
   "name": "python",
   "nbconvert_exporter": "python",
   "pygments_lexer": "ipython3",
   "version": "3.12.8"
  }
 },
 "nbformat": 4,
 "nbformat_minor": 5
}
